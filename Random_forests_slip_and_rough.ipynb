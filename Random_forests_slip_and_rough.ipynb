{
  "nbformat": 4,
  "nbformat_minor": 0,
  "metadata": {
    "colab": {
      "provenance": [],
      "gpuType": "T4",
      "include_colab_link": true
    },
    "kernelspec": {
      "name": "python3",
      "display_name": "Python 3"
    },
    "language_info": {
      "name": "python"
    },
    "accelerator": "GPU"
  },
  "cells": [
    {
      "cell_type": "markdown",
      "metadata": {
        "id": "view-in-github",
        "colab_type": "text"
      },
      "source": [
        "<a href=\"https://colab.research.google.com/github/Satvik-Gautam/Terrain-Recognition/blob/main/Random_forests_slip_and_rough.ipynb\" target=\"_parent\"><img src=\"https://colab.research.google.com/assets/colab-badge.svg\" alt=\"Open In Colab\"/></a>"
      ]
    },
    {
      "cell_type": "code",
      "execution_count": null,
      "metadata": {
        "colab": {
          "base_uri": "https://localhost:8080/"
        },
        "id": "sqMoHvyX6GSB",
        "outputId": "ba081a2f-d62c-485b-bd89-df459541b336"
      },
      "outputs": [
        {
          "output_type": "stream",
          "name": "stdout",
          "text": [
            "Collecting mahotas\n",
            "  Downloading mahotas-1.4.13-cp310-cp310-manylinux_2_17_x86_64.manylinux2014_x86_64.whl (5.4 MB)\n",
            "\u001b[2K     \u001b[90m━━━━━━━━━━━━━━━━━━━━━━━━━━━━━━━━━━━━━━━━\u001b[0m \u001b[32m5.4/5.4 MB\u001b[0m \u001b[31m15.0 MB/s\u001b[0m eta \u001b[36m0:00:00\u001b[0m\n",
            "\u001b[?25hRequirement already satisfied: numpy in /usr/local/lib/python3.10/dist-packages (from mahotas) (1.23.5)\n",
            "Installing collected packages: mahotas\n",
            "Successfully installed mahotas-1.4.13\n",
            "Requirement already satisfied: joblib in /usr/local/lib/python3.10/dist-packages (1.3.2)\n"
          ]
        }
      ],
      "source": [
        "!pip install mahotas\n",
        "!pip install joblib"
      ]
    },
    {
      "cell_type": "code",
      "source": [
        "!pip install pillow\n",
        "!pip install --upgrade scikit-learn"
      ],
      "metadata": {
        "colab": {
          "base_uri": "https://localhost:8080/"
        },
        "id": "8UaeDrM6prPL",
        "outputId": "0396ebba-d59a-40a8-de30-69be9d5364be"
      },
      "execution_count": null,
      "outputs": [
        {
          "output_type": "stream",
          "name": "stdout",
          "text": [
            "Requirement already satisfied: pillow in /usr/local/lib/python3.10/dist-packages (9.4.0)\n",
            "Requirement already satisfied: scikit-learn in /usr/local/lib/python3.10/dist-packages (1.2.2)\n",
            "Collecting scikit-learn\n",
            "  Downloading scikit_learn-1.3.1-cp310-cp310-manylinux_2_17_x86_64.manylinux2014_x86_64.whl (10.8 MB)\n",
            "\u001b[2K     \u001b[90m━━━━━━━━━━━━━━━━━━━━━━━━━━━━━━━━━━━━━━━━\u001b[0m \u001b[32m10.8/10.8 MB\u001b[0m \u001b[31m30.8 MB/s\u001b[0m eta \u001b[36m0:00:00\u001b[0m\n",
            "\u001b[?25hRequirement already satisfied: numpy<2.0,>=1.17.3 in /usr/local/lib/python3.10/dist-packages (from scikit-learn) (1.23.5)\n",
            "Requirement already satisfied: scipy>=1.5.0 in /usr/local/lib/python3.10/dist-packages (from scikit-learn) (1.11.2)\n",
            "Requirement already satisfied: joblib>=1.1.1 in /usr/local/lib/python3.10/dist-packages (from scikit-learn) (1.3.2)\n",
            "Requirement already satisfied: threadpoolctl>=2.0.0 in /usr/local/lib/python3.10/dist-packages (from scikit-learn) (3.2.0)\n",
            "Installing collected packages: scikit-learn\n",
            "  Attempting uninstall: scikit-learn\n",
            "    Found existing installation: scikit-learn 1.2.2\n",
            "    Uninstalling scikit-learn-1.2.2:\n",
            "      Successfully uninstalled scikit-learn-1.2.2\n",
            "Successfully installed scikit-learn-1.3.1\n"
          ]
        }
      ]
    },
    {
      "cell_type": "code",
      "source": [],
      "metadata": {
        "id": "PkL32jWjPXzO"
      },
      "execution_count": null,
      "outputs": []
    },
    {
      "cell_type": "code",
      "source": [
        "import numpy as np\n",
        "from mahotas.features import haralick\n",
        "import random\n",
        "import cv2\n",
        "import joblib\n",
        "from PIL import Image\n",
        "import os\n",
        "from sklearn.datasets import load_iris\n",
        "from sklearn.model_selection import train_test_split\n",
        "from sklearn.ensemble import RandomForestClassifier\n",
        "from sklearn.metrics import accuracy_score"
      ],
      "metadata": {
        "id": "IC4FH32O67Je"
      },
      "execution_count": null,
      "outputs": []
    },
    {
      "cell_type": "code",
      "source": [
        "from google.colab import drive\n",
        "drive.mount('/content/drive')"
      ],
      "metadata": {
        "colab": {
          "base_uri": "https://localhost:8080/"
        },
        "id": "v4Z5KGs5XGTh",
        "outputId": "1d9dee05-46f6-4aa2-a2bf-d0931db774ae"
      },
      "execution_count": null,
      "outputs": [
        {
          "output_type": "stream",
          "name": "stdout",
          "text": [
            "Mounted at /content/drive\n"
          ]
        }
      ]
    },
    {
      "cell_type": "markdown",
      "source": [
        "\n",
        "haralick_labels = [\"Angular Second Moment\",\n",
        "                   \"Contrast\",\n",
        "                   \"Correlation\",\n",
        "                   \"Sum of Squares: Variance\",\n",
        "                   \"Inverse Difference Moment\",\n",
        "                   \"Sum Average\",\n",
        "                   \"Sum Variance\",\n",
        "                   \"Sum Entropy\",\n",
        "                   \"Entropy\",\n",
        "                   \"Difference Variance\",\n",
        "                   \"Difference Entropy\",\n",
        "                   \"Information Measure of Correlation 1\",\n",
        "                   \"Information Measure of Correlation 2\",\n",
        "                   \"Maximal Correlation Coefficient\"]\n"
      ],
      "metadata": {
        "id": "TmMmnzoH-UQy"
      }
    },
    {
      "cell_type": "code",
      "source": [
        "s = [\"grass\" , \"rocky\" , \"marshy\" ,\"sandy\" ]\n",
        "directory = [r\"/content/drive/MyDrive/latest_data/\", \"/content/drive/MyDrive/terrain data/terrain data/\"]\n",
        "image_list = []\n",
        "y_rough =[]\n",
        "y_slip = []\n",
        "\n",
        "for i in range(0,len(s)):\n",
        "  for j in directory:\n",
        "\n",
        "    folder = os.listdir(j + s[i])\n",
        "\n",
        "    for file in folder:\n",
        "          if file.endswith(('.png' ,'.PNG','.jpg' )):\n",
        "            image_list.append(cv2.imread(os.path.join(j + s[i], file), cv2.IMREAD_GRAYSCALE))\n",
        "          match i:\n",
        "            case 0 :\n",
        "              y_rough.append( 0 if random.uniform(0.2 ,0.3) < 0.5 else 1)\n",
        "              y_slip.append( 0 if random.uniform(0.2,0.5)< 0.5 else 1)\n",
        "            case 1 :\n",
        "                y_rough.append( 0 if random.uniform(0.52,0.7)< 0.5 else 1)\n",
        "                y_slip.append( 0 if random.uniform(0,0.2)< 0.5 else 1)\n",
        "            case 2 :\n",
        "                y_rough.append(0 if random.uniform(0.1,0.2)< 0.5 else 1)\n",
        "                y_slip.append( 0 if random.uniform(0.8,1)< 0.5 else 1)\n",
        "            case 3 :\n",
        "                y_rough.append( 0 if random.uniform(0.3,0.48)< 0.5 else 1)\n",
        "                y_slip.append( 0 if random.uniform(0.5,0.8)< 0.5 else 1)\n"
      ],
      "metadata": {
        "id": "af1hF1rMuJqb"
      },
      "execution_count": null,
      "outputs": []
    },
    {
      "cell_type": "code",
      "source": [
        "rows = len(image_list)\n",
        "cols = 56\n",
        "\n",
        "x = []\n",
        "\n",
        "itr = 0\n",
        "for i in image_list:\n",
        "\n",
        "  h = haralick(i)\n",
        "  arr = np.array(h).flatten()\n",
        "  x.insert(itr  ,arr)\n",
        "\n",
        "print(len(x))"
      ],
      "metadata": {
        "colab": {
          "base_uri": "https://localhost:8080/"
        },
        "id": "5kdsingEwy3H",
        "outputId": "8838189b-667b-4010-fca8-ece6d46e2a7c"
      },
      "execution_count": null,
      "outputs": [
        {
          "output_type": "stream",
          "name": "stdout",
          "text": [
            "2360\n"
          ]
        }
      ]
    },
    {
      "cell_type": "code",
      "source": [
        "#roughness\n",
        "print(len(x))\n",
        "print(len(y_rough))\n",
        "# Split the dataset into training and testing sets\n",
        "x_train_rough , x_test_rough , y_train_rough , y_test_rough = train_test_split(x , y_rough , test_size = 0.2 , random_state = 42)\n",
        "\n",
        "\n",
        "# Create a Random Forest classifier\n",
        "rf_classifier_rough = RandomForestClassifier(n_estimators=100, random_state=50)\n",
        "\n",
        "# Train the classifier on the training data\n",
        "rf_classifier_rough.fit(x_train_rough , y_train_rough)\n",
        "\n",
        "# Make predictions on the test data\n",
        "y_pred_rough = rf_classifier_rough.predict(x_test_rough)\n",
        "\n",
        "# Calculate the accuracy of the classifier\n",
        "accuracy = accuracy_score(y_test_rough, y_pred_rough)\n",
        "print(f\"Accuracy: {accuracy:.2f}\")\n",
        "joblib.dump(rf_classifier_rough, 'random_forest_rough_latest.joblib')"
      ],
      "metadata": {
        "colab": {
          "base_uri": "https://localhost:8080/"
        },
        "id": "vgcp-T6z9oJ4",
        "outputId": "1cbb042a-9be3-49a6-8be7-ece339b18804"
      },
      "execution_count": null,
      "outputs": [
        {
          "output_type": "stream",
          "name": "stdout",
          "text": [
            "2360\n",
            "2360\n",
            "Accuracy: 0.80\n"
          ]
        },
        {
          "output_type": "execute_result",
          "data": {
            "text/plain": [
              "['random_forest_rough_latest.joblib']"
            ]
          },
          "metadata": {},
          "execution_count": 29
        }
      ]
    },
    {
      "cell_type": "code",
      "source": [
        "#slipperiness\n",
        "x_train_slip , x_test_slip , y_train_slip , y_test_slip = train_test_split(x , y_slip , test_size = 0.2 , random_state = 42)\n",
        "\n",
        "\n",
        "# Create a Random Forest classifier\n",
        "rf_classifier_slip = RandomForestClassifier(n_estimators=100, random_state=42)\n",
        "\n",
        "# Train the classifier on the training data\n",
        "rf_classifier_slip.fit(x_train_slip , y_train_slip)\n",
        "\n",
        "# Make predictions on the test data\n",
        "y_pred_slip = rf_classifier_slip.predict(x_test_slip)\n",
        "\n",
        "# Calculate the accuracy of the classifier\n",
        "accuracy = accuracy_score(y_test_slip, y_pred_slip)\n",
        "print(f\"Accuracy: {accuracy:.2f}\")\n",
        "joblib.dump(rf_classifier_slip, 'random_forest_slip_latest.joblib')"
      ],
      "metadata": {
        "colab": {
          "base_uri": "https://localhost:8080/"
        },
        "id": "CgjyHZH3DcG-",
        "outputId": "9af4bf13-7d8a-4108-a2c7-94236ec87124"
      },
      "execution_count": null,
      "outputs": [
        {
          "output_type": "stream",
          "name": "stdout",
          "text": [
            "Accuracy: 0.88\n"
          ]
        },
        {
          "output_type": "execute_result",
          "data": {
            "text/plain": [
              "['random_forest_slip_latest.joblib']"
            ]
          },
          "metadata": {},
          "execution_count": 30
        }
      ]
    },
    {
      "cell_type": "code",
      "source": [
        "image = cv2.imread(r\"/content/drive/MyDrive/terrain data/terrain data/grass/grass (1)_rotate.jpg\", cv2.IMREAD_GRAYSCALE)\n",
        "har = np.array(haralick(image)).flatten()\n",
        "a = []\n",
        "a.append(har)\n",
        "predictions_rough = rf_classifier_rough.predict(a)\n",
        "predictions_slip = rf_classifier_slip.predict(a)\n",
        "print(\"roughness\"  + str(predictions_rough))\n",
        "print(\"slipperiness\" + str(predictions_slip))"
      ],
      "metadata": {
        "colab": {
          "base_uri": "https://localhost:8080/"
        },
        "id": "u0rsFSgk_b8L",
        "outputId": "8ac62585-3363-479b-f266-50ec007abed9"
      },
      "execution_count": null,
      "outputs": [
        {
          "output_type": "stream",
          "name": "stdout",
          "text": [
            "roughness[0]\n",
            "slipperiness[1]\n"
          ]
        }
      ]
    },
    {
      "cell_type": "markdown",
      "source": [
        "roughness - 0 = not rough , 1 = rough\n",
        "slipperiness - 0 = not slippery , 1 = slippery"
      ],
      "metadata": {
        "id": "Bx7eejJDBWio"
      }
    },
    {
      "cell_type": "code",
      "source": [],
      "metadata": {
        "id": "StQ2UG6p9nUI"
      },
      "execution_count": null,
      "outputs": []
    }
  ]
}