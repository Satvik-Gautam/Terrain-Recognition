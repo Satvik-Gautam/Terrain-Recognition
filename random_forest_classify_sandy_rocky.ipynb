{
  "nbformat": 4,
  "nbformat_minor": 0,
  "metadata": {
    "colab": {
      "provenance": [],
      "gpuType": "T4",
      "include_colab_link": true
    },
    "kernelspec": {
      "name": "python3",
      "display_name": "Python 3"
    },
    "language_info": {
      "name": "python"
    },
    "accelerator": "GPU"
  },
  "cells": [
    {
      "cell_type": "markdown",
      "metadata": {
        "id": "view-in-github",
        "colab_type": "text"
      },
      "source": [
        "<a href=\"https://colab.research.google.com/github/Satvik-Gautam/Terrain-Recognition/blob/main/random_forest_classify_sandy_rocky.ipynb\" target=\"_parent\"><img src=\"https://colab.research.google.com/assets/colab-badge.svg\" alt=\"Open In Colab\"/></a>"
      ]
    },
    {
      "cell_type": "code",
      "execution_count": null,
      "metadata": {
        "colab": {
          "base_uri": "https://localhost:8080/"
        },
        "id": "sqMoHvyX6GSB",
        "outputId": "cce1b36b-fd87-4aaf-90f3-0633f61f7ac8"
      },
      "outputs": [
        {
          "output_type": "stream",
          "name": "stdout",
          "text": [
            "Collecting mahotas\n",
            "  Downloading mahotas-1.4.13-cp310-cp310-manylinux_2_17_x86_64.manylinux2014_x86_64.whl (5.4 MB)\n",
            "\u001b[2K     \u001b[90m━━━━━━━━━━━━━━━━━━━━━━━━━━━━━━━━━━━━━━━━\u001b[0m \u001b[32m5.4/5.4 MB\u001b[0m \u001b[31m47.8 MB/s\u001b[0m eta \u001b[36m0:00:00\u001b[0m\n",
            "\u001b[?25hRequirement already satisfied: numpy in /usr/local/lib/python3.10/dist-packages (from mahotas) (1.23.5)\n",
            "Installing collected packages: mahotas\n",
            "Successfully installed mahotas-1.4.13\n",
            "Requirement already satisfied: scikit-learn in /usr/local/lib/python3.10/dist-packages (1.2.2)\n",
            "Requirement already satisfied: numpy>=1.17.3 in /usr/local/lib/python3.10/dist-packages (from scikit-learn) (1.23.5)\n",
            "Requirement already satisfied: scipy>=1.3.2 in /usr/local/lib/python3.10/dist-packages (from scikit-learn) (1.11.2)\n",
            "Requirement already satisfied: joblib>=1.1.1 in /usr/local/lib/python3.10/dist-packages (from scikit-learn) (1.3.2)\n",
            "Requirement already satisfied: threadpoolctl>=2.0.0 in /usr/local/lib/python3.10/dist-packages (from scikit-learn) (3.2.0)\n"
          ]
        }
      ],
      "source": [
        "!pip install mahotas\n",
        "!pip install scikit-learn"
      ]
    },
    {
      "cell_type": "code",
      "source": [
        "!pip install pillow"
      ],
      "metadata": {
        "colab": {
          "base_uri": "https://localhost:8080/"
        },
        "id": "8UaeDrM6prPL",
        "outputId": "dd5305ee-3801-47a5-8de7-56a4de4394fe"
      },
      "execution_count": null,
      "outputs": [
        {
          "output_type": "stream",
          "name": "stdout",
          "text": [
            "Requirement already satisfied: pillow in /usr/local/lib/python3.10/dist-packages (9.4.0)\n"
          ]
        }
      ]
    },
    {
      "cell_type": "code",
      "source": [
        "import numpy as np\n",
        "from mahotas.features import haralick\n",
        "import random\n",
        "import cv2\n",
        "from PIL import Image\n",
        "import os\n",
        "from sklearn.datasets import load_iris\n",
        "from sklearn.model_selection import train_test_split\n",
        "from sklearn.ensemble import RandomForestClassifier\n",
        "from sklearn.metrics import accuracy_score\n",
        "import numpy as np\n",
        "from sklearn import datasets\n",
        "from sklearn.model_selection import train_test_split\n",
        "from sklearn.svm import SVC\n",
        "from sklearn.metrics import accuracy_score, classification_report"
      ],
      "metadata": {
        "id": "IC4FH32O67Je"
      },
      "execution_count": null,
      "outputs": []
    },
    {
      "cell_type": "code",
      "source": [
        "from google.colab import drive\n",
        "drive.mount('/content/drive')"
      ],
      "metadata": {
        "colab": {
          "base_uri": "https://localhost:8080/"
        },
        "id": "v4Z5KGs5XGTh",
        "outputId": "ca4224b8-9e28-4dc7-a5b6-95aeb50d18e4"
      },
      "execution_count": null,
      "outputs": [
        {
          "output_type": "stream",
          "name": "stdout",
          "text": [
            "Mounted at /content/drive\n"
          ]
        }
      ]
    },
    {
      "cell_type": "markdown",
      "source": [
        "\n",
        "haralick_labels = [\"Angular Second Moment\",\n",
        "                   \"Contrast\",\n",
        "                   \"Correlation\",\n",
        "                   \"Sum of Squares: Variance\",\n",
        "                   \"Inverse Difference Moment\",\n",
        "                   \"Sum Average\",\n",
        "                   \"Sum Variance\",\n",
        "                   \"Sum Entropy\",\n",
        "                   \"Entropy\",\n",
        "                   \"Difference Variance\",\n",
        "                   \"Difference Entropy\",\n",
        "                   \"Information Measure of Correlation 1\",\n",
        "                   \"Information Measure of Correlation 2\",\n",
        "                   \"Maximal Correlation Coefficient\"]\n"
      ],
      "metadata": {
        "id": "TmMmnzoH-UQy"
      }
    },
    {
      "cell_type": "code",
      "source": [
        "s = [ \"sandy\"  ,\"rocky\" ]\n",
        "directory = r\"/content/drive/MyDrive/terrain data/terrain data/\"\n",
        "image_list = []\n",
        "y_type =[]\n",
        "y_slip = []\n",
        "y_type = []\n",
        "for i in range(0,len(s)):\n",
        "  folder = os.listdir(directory + s[i])\n",
        "\n",
        "  for file in folder:\n",
        "        if file.endswith(('.png' ,'.PNG','.jpg' )):\n",
        "          image_list.append(cv2.imread(os.path.join(directory + s[i], file), cv2.IMREAD_GRAYSCALE))\n",
        "        match i:\n",
        "          case 0 :\n",
        "            y_type.append(0)\n",
        "\n",
        "          case 1 :\n",
        "              y_type.append(1)\n",
        "\n",
        "\n"
      ],
      "metadata": {
        "id": "af1hF1rMuJqb"
      },
      "execution_count": null,
      "outputs": []
    },
    {
      "cell_type": "code",
      "source": [
        "rows = len(image_list)\n",
        "cols = 56\n",
        "\n",
        "x = []\n",
        "\n",
        "itr = 0\n",
        "for i in image_list:\n",
        "\n",
        "  h = haralick(i)\n",
        "  arr = np.array(h).flatten()\n",
        "  x.insert(itr  ,arr)\n",
        "\n",
        "print(len(x))"
      ],
      "metadata": {
        "colab": {
          "base_uri": "https://localhost:8080/"
        },
        "id": "5kdsingEwy3H",
        "outputId": "b46bf2d8-ca86-49dc-ceab-a7348c5a4072"
      },
      "execution_count": null,
      "outputs": [
        {
          "output_type": "stream",
          "name": "stdout",
          "text": [
            "745\n"
          ]
        }
      ]
    },
    {
      "cell_type": "code",
      "source": [
        "from sklearn.model_selection import GridSearchCV\n",
        "X_train, X_test, y_train, y_test = train_test_split(x, y_type, test_size=0.2, random_state=42)\n",
        "\n",
        "param_grid = {\n",
        "    'C': [0.01 , 0.1, 1, 10 , 100],\n",
        "    'gamma': [0.01, 0.1, 1, 10, 100]\n",
        "}\n",
        "# Create an SVM classifier with an RBF kernel\n",
        "svm_classifier = SVC(kernel='rbf', cache_size = 5000)\n",
        "\n",
        "# Create a GridSearchCV object with cross-validation\n",
        "grid_search = GridSearchCV(svm_classifier, param_grid, cv=5, n_jobs=-1)\n",
        "\n",
        "# Fit the GridSearchCV to your training data\n",
        "grid_search.fit(X_train, y_train)\n",
        "\n",
        "# Get the best hyperparameters and the best model\n",
        "best_params = grid_search.best_params_\n",
        "best_svm_model = grid_search.best_estimator_\n",
        "\n",
        "# Evaluate the best model on the test data\n",
        "y_pred = best_svm_model.predict(X_test)\n",
        "accuracy = accuracy_score(y_test, y_pred)\n",
        "\n",
        "print(f'Best hyperparameters: {best_params}')\n",
        "print(f'Accuracy on test data: {accuracy}')"
      ],
      "metadata": {
        "colab": {
          "base_uri": "https://localhost:8080/"
        },
        "id": "VH_h-S1YPYjc",
        "outputId": "ab8b1f92-02ea-47c3-fb08-927b0ba6159d"
      },
      "execution_count": null,
      "outputs": [
        {
          "output_type": "stream",
          "name": "stdout",
          "text": [
            "Best hyperparameters: {'C': 1, 'gamma': 0.01}\n",
            "Accuracy on test data: 0.7718120805369127\n"
          ]
        }
      ]
    },
    {
      "cell_type": "code",
      "source": [
        "X_train, X_test, y_train, y_test = train_test_split(x, y_type, test_size=0.2, random_state=42)\n",
        "\n",
        "\n",
        "svm_classifier = SVC(kernel='rbf' , cache_size = 2000)  # You can choose different kernel functions like 'linear', 'rbf', etc.\n",
        "svm_classifier.fit(X_train, y_train)\n",
        "y_pred = svm_classifier.predict(X_test)\n",
        "accuracy = accuracy_score(y_test, y_pred)\n",
        "report = classification_report(y_test, y_pred)\n",
        "\n",
        "print(f'Accuracy: {accuracy}')\n",
        "print(f'Classification Report:\\n{report}')\n"
      ],
      "metadata": {
        "colab": {
          "base_uri": "https://localhost:8080/"
        },
        "id": "LoGa_3cIMlEq",
        "outputId": "bd2c1c4a-ee03-4afe-88a8-789feefe028a"
      },
      "execution_count": null,
      "outputs": [
        {
          "output_type": "stream",
          "name": "stdout",
          "text": [
            "Accuracy: 0.6778523489932886\n",
            "Classification Report:\n",
            "              precision    recall  f1-score   support\n",
            "\n",
            "           0       0.00      0.00      0.00        48\n",
            "           1       0.68      1.00      0.81       101\n",
            "\n",
            "    accuracy                           0.68       149\n",
            "   macro avg       0.34      0.50      0.40       149\n",
            "weighted avg       0.46      0.68      0.55       149\n",
            "\n"
          ]
        },
        {
          "output_type": "stream",
          "name": "stderr",
          "text": [
            "/usr/local/lib/python3.10/dist-packages/sklearn/metrics/_classification.py:1344: UndefinedMetricWarning: Precision and F-score are ill-defined and being set to 0.0 in labels with no predicted samples. Use `zero_division` parameter to control this behavior.\n",
            "  _warn_prf(average, modifier, msg_start, len(result))\n",
            "/usr/local/lib/python3.10/dist-packages/sklearn/metrics/_classification.py:1344: UndefinedMetricWarning: Precision and F-score are ill-defined and being set to 0.0 in labels with no predicted samples. Use `zero_division` parameter to control this behavior.\n",
            "  _warn_prf(average, modifier, msg_start, len(result))\n",
            "/usr/local/lib/python3.10/dist-packages/sklearn/metrics/_classification.py:1344: UndefinedMetricWarning: Precision and F-score are ill-defined and being set to 0.0 in labels with no predicted samples. Use `zero_division` parameter to control this behavior.\n",
            "  _warn_prf(average, modifier, msg_start, len(result))\n"
          ]
        }
      ]
    },
    {
      "cell_type": "code",
      "source": [
        "#type\n",
        "print(len(x))\n",
        "print(len(y_type))\n",
        "# Split the dataset into training and testing sets\n",
        "x_train_type , x_test_type , y_train_type , y_test_type = train_test_split(x , y_type , test_size = 0.2 , random_state = 42)\n",
        "\n",
        "\n",
        "# Create a Random Forest classifier\n",
        "rf_classifier_type = RandomForestClassifier(n_estimators=1000, random_state=42)\n",
        "\n",
        "# Train the classifier on the training data\n",
        "rf_classifier_type.fit(x_train_type , y_train_type)\n",
        "\n",
        "# Make predictions on the test data\n",
        "y_pred_type = rf_classifier_type.predict(x_test_type)\n",
        "\n",
        "# Calculate the accuracy of the classifier\n",
        "accuracy = accuracy_score(y_test_type, y_pred_type)\n",
        "print(f\"Accuracy: {accuracy:.2f}\")\n",
        "accuracy = accuracy_score(y_test_type, y_pred_type)\n",
        "report = classification_report(y_test_type, y_pred_type)\n",
        "\n",
        "print(f'Accuracy: {accuracy}')\n",
        "print(f'Classification Report:\\n{report}')"
      ],
      "metadata": {
        "colab": {
          "base_uri": "https://localhost:8080/"
        },
        "id": "qiADa7noGXio",
        "outputId": "d5f74dee-8b75-4557-cf49-dac225ae4b46"
      },
      "execution_count": null,
      "outputs": [
        {
          "output_type": "stream",
          "name": "stdout",
          "text": [
            "745\n",
            "745\n",
            "Accuracy: 0.79\n",
            "Accuracy: 0.785234899328859\n",
            "Classification Report:\n",
            "              precision    recall  f1-score   support\n",
            "\n",
            "           0       0.71      0.56      0.63        48\n",
            "           1       0.81      0.89      0.85       101\n",
            "\n",
            "    accuracy                           0.79       149\n",
            "   macro avg       0.76      0.73      0.74       149\n",
            "weighted avg       0.78      0.79      0.78       149\n",
            "\n"
          ]
        }
      ]
    },
    {
      "cell_type": "code",
      "source": [
        "import numpy as np\n",
        "from sklearn.ensemble import AdaBoostClassifier\n",
        "from sklearn.svm import SVC\n",
        "from sklearn.tree import DecisionTreeClassifier\n",
        "from sklearn.datasets import make_classification\n",
        "from sklearn.model_selection import train_test_split\n",
        "from sklearn.metrics import accuracy_score\n",
        "\n",
        "# Load or generate your dataset as before\n",
        "\n",
        "X_train, X_test, y_train, y_test = train_test_split(x, y_type, test_size=0.2, random_state=42)\n",
        "\n",
        "# Initialize a list of base estimators\n",
        "base_estimators = [\n",
        "    ('svm', SVC(kernel='linear', C=1))  # Decision Tree as a base estimator\n",
        "]\n",
        "\n",
        "# Create an AdaBoost ensemble with a mixture of base estimators\n",
        "n_estimators = 1000\n",
        "ada_boost = AdaBoostClassifier(estimator=RandomForestClassifier(n_estimators=100, random_state=42), n_estimators=n_estimators, random_state=42, algorithm = \"SAMME.R\")\n",
        "\n",
        "# Train the model\n",
        "ada_boost.fit(X_train, y_train)\n",
        "\n",
        "# Make predictions\n",
        "\n",
        "y_pred = ada_boost.predict(X_test)\n",
        "\n",
        "# Evaluate the model\n",
        "accuracy = accuracy_score(y_test, y_pred)\n",
        "print(f\"Accuracy: {accuracy:.2f}\")\n",
        "accuracy = accuracy_score(y_test, y_pred)\n",
        "report = classification_report(y_test, y_pred)\n",
        "\n",
        "print(f'Accuracy: {accuracy}')\n",
        "print(f'Classification Report:\\n{report}')\n",
        "\n"
      ],
      "metadata": {
        "colab": {
          "base_uri": "https://localhost:8080/"
        },
        "id": "Oj64lr6jT8z-",
        "outputId": "115fd3e8-0ea7-4c7b-c0e4-ab12dd82d9a3"
      },
      "execution_count": null,
      "outputs": [
        {
          "output_type": "stream",
          "name": "stdout",
          "text": [
            "Accuracy: 0.78\n",
            "Accuracy: 0.7785234899328859\n",
            "Classification Report:\n",
            "              precision    recall  f1-score   support\n",
            "\n",
            "           0       0.70      0.54      0.61        48\n",
            "           1       0.80      0.89      0.85       101\n",
            "\n",
            "    accuracy                           0.78       149\n",
            "   macro avg       0.75      0.72      0.73       149\n",
            "weighted avg       0.77      0.78      0.77       149\n",
            "\n"
          ]
        }
      ]
    },
    {
      "cell_type": "code",
      "source": [
        "print(X.shape)"
      ],
      "metadata": {
        "colab": {
          "base_uri": "https://localhost:8080/"
        },
        "id": "Z2vAoahkB8Xe",
        "outputId": "c5067710-3172-4d1c-9ca2-5cf1d34ea6fe"
      },
      "execution_count": null,
      "outputs": [
        {
          "output_type": "stream",
          "name": "stdout",
          "text": [
            "(1000, 20)\n"
          ]
        }
      ]
    },
    {
      "cell_type": "code",
      "source": [
        "image = cv2.imread(r\"/content/drive/MyDrive/terrain data/terrain data/rocky/download_flip.jpg\", cv2.IMREAD_GRAYSCALE)\n",
        "har = np.array(haralick(image)).flatten()\n",
        "a = []\n",
        "a.append(har)\n",
        "predictions_type = ada_boost.predict(a)\n",
        "print( predictions_type )"
      ],
      "metadata": {
        "colab": {
          "base_uri": "https://localhost:8080/"
        },
        "id": "u0rsFSgk_b8L",
        "outputId": "ebc6178b-27e9-4c56-8453-6145d6e6f6bd"
      },
      "execution_count": null,
      "outputs": [
        {
          "output_type": "stream",
          "name": "stdout",
          "text": [
            "[1]\n"
          ]
        }
      ]
    },
    {
      "cell_type": "markdown",
      "source": [
        "rocky - 0  , sandy - 1 ,\n",
        "but somehow , its returning the reverse of it\n",
        "kal ek baar neural network par bhi adaboost laga kar dekhlenge\n",
        "\n"
      ],
      "metadata": {
        "id": "Bx7eejJDBWio"
      }
    },
    {
      "cell_type": "code",
      "source": [],
      "metadata": {
        "id": "ZasQ-C6A-Tki"
      },
      "execution_count": null,
      "outputs": []
    },
    {
      "cell_type": "code",
      "source": [
        "from PIL import Image\n",
        "import numpy as np\n",
        "from sklearn.ensemble import AdaBoostClassifier\n",
        "\n",
        "# Load the trained AdaBoost classifier (you should have already trained it)\n",
        "#adaboost_classifier = AdaBoostClassifier(n_estimators=50, learning_rate=1.0, random_state=42)\n",
        "\n",
        "# Load and preprocess the image\n",
        "image_path = \"/content/drive/MyDrive/terrain data/terrain data/rocky/108470920-a-creative-abstract-background-of-a-rocky-terrain_contrast.jpg\"\n",
        "image = Image.open(image_path)\n",
        "# Perform necessary preprocessing, e.g., resizing, normalizing, and converting to an array\n",
        "a = np.array(haralick(image)).flatten()\n",
        "#image = preprocess_image(image)\n",
        "\n",
        "# Make a prediction\n",
        "#image_array = np.array([image])  # Create a numpy array with the image\n",
        "predicted_class = ada_boost.predict(a)\n",
        "\n",
        "# The 'predicted_class' variable now contains the predicted class label for the image\n",
        "print(\"Predicted Class:\", predicted_class)\n"
      ],
      "metadata": {
        "colab": {
          "base_uri": "https://localhost:8080/",
          "height": 407
        },
        "id": "TJ25VD7p3k39",
        "outputId": "87c8b146-6a85-4dca-d7c5-4ccd97a4125c"
      },
      "execution_count": null,
      "outputs": [
        {
          "output_type": "error",
          "ename": "AttributeError",
          "evalue": "ignored",
          "traceback": [
            "\u001b[0;31m---------------------------------------------------------------------------\u001b[0m",
            "\u001b[0;31mAttributeError\u001b[0m                            Traceback (most recent call last)",
            "\u001b[0;32m<ipython-input-37-9180eafc2745>\u001b[0m in \u001b[0;36m<cell line: 12>\u001b[0;34m()\u001b[0m\n\u001b[1;32m     10\u001b[0m \u001b[0mimage\u001b[0m \u001b[0;34m=\u001b[0m \u001b[0mImage\u001b[0m\u001b[0;34m.\u001b[0m\u001b[0mopen\u001b[0m\u001b[0;34m(\u001b[0m\u001b[0mimage_path\u001b[0m\u001b[0;34m)\u001b[0m\u001b[0;34m\u001b[0m\u001b[0;34m\u001b[0m\u001b[0m\n\u001b[1;32m     11\u001b[0m \u001b[0;31m# Perform necessary preprocessing, e.g., resizing, normalizing, and converting to an array\u001b[0m\u001b[0;34m\u001b[0m\u001b[0;34m\u001b[0m\u001b[0m\n\u001b[0;32m---> 12\u001b[0;31m \u001b[0ma\u001b[0m \u001b[0;34m=\u001b[0m \u001b[0mnp\u001b[0m\u001b[0;34m.\u001b[0m\u001b[0marray\u001b[0m\u001b[0;34m(\u001b[0m\u001b[0mharalick\u001b[0m\u001b[0;34m(\u001b[0m\u001b[0mimage\u001b[0m\u001b[0;34m)\u001b[0m\u001b[0;34m)\u001b[0m\u001b[0;34m.\u001b[0m\u001b[0mflatten\u001b[0m\u001b[0;34m(\u001b[0m\u001b[0;34m)\u001b[0m\u001b[0;34m\u001b[0m\u001b[0;34m\u001b[0m\u001b[0m\n\u001b[0m\u001b[1;32m     13\u001b[0m \u001b[0;31m#image = preprocess_image(image)\u001b[0m\u001b[0;34m\u001b[0m\u001b[0;34m\u001b[0m\u001b[0m\n\u001b[1;32m     14\u001b[0m \u001b[0;34m\u001b[0m\u001b[0m\n",
            "\u001b[0;32m/usr/local/lib/python3.10/dist-packages/mahotas/features/texture.py\u001b[0m in \u001b[0;36mharalick\u001b[0;34m(f, ignore_zeros, preserve_haralick_bug, compute_14th_feature, return_mean, return_mean_ptp, use_x_minus_y_variance, distance)\u001b[0m\n\u001b[1;32m    125\u001b[0m         \u001b[0mreturned\u001b[0m\u001b[0;34m.\u001b[0m\u001b[0;34m\u001b[0m\u001b[0;34m\u001b[0m\u001b[0m\n\u001b[1;32m    126\u001b[0m     '''\n\u001b[0;32m--> 127\u001b[0;31m     \u001b[0m_verify_is_integer_type\u001b[0m\u001b[0;34m(\u001b[0m\u001b[0mf\u001b[0m\u001b[0;34m,\u001b[0m \u001b[0;34m'mahotas.haralick'\u001b[0m\u001b[0;34m)\u001b[0m\u001b[0;34m\u001b[0m\u001b[0;34m\u001b[0m\u001b[0m\n\u001b[0m\u001b[1;32m    128\u001b[0m \u001b[0;34m\u001b[0m\u001b[0m\n\u001b[1;32m    129\u001b[0m     \u001b[0;32mif\u001b[0m \u001b[0mlen\u001b[0m\u001b[0;34m(\u001b[0m\u001b[0mf\u001b[0m\u001b[0;34m.\u001b[0m\u001b[0mshape\u001b[0m\u001b[0;34m)\u001b[0m \u001b[0;34m==\u001b[0m \u001b[0;36m2\u001b[0m\u001b[0;34m:\u001b[0m\u001b[0;34m\u001b[0m\u001b[0;34m\u001b[0m\u001b[0m\n",
            "\u001b[0;32m/usr/local/lib/python3.10/dist-packages/mahotas/internal.py\u001b[0m in \u001b[0;36m_verify_is_integer_type\u001b[0;34m(A, function_name)\u001b[0m\n\u001b[1;32m    126\u001b[0m         \u001b[0mUsed\u001b[0m \u001b[0;32mfor\u001b[0m \u001b[0merror\u001b[0m \u001b[0mmessages\u001b[0m\u001b[0;34m\u001b[0m\u001b[0;34m\u001b[0m\u001b[0m\n\u001b[1;32m    127\u001b[0m     '''\n\u001b[0;32m--> 128\u001b[0;31m     \u001b[0mk\u001b[0m \u001b[0;34m=\u001b[0m \u001b[0mA\u001b[0m\u001b[0;34m.\u001b[0m\u001b[0mdtype\u001b[0m\u001b[0;34m.\u001b[0m\u001b[0mkind\u001b[0m\u001b[0;34m\u001b[0m\u001b[0;34m\u001b[0m\u001b[0m\n\u001b[0m\u001b[1;32m    129\u001b[0m     \u001b[0;32mif\u001b[0m \u001b[0mk\u001b[0m \u001b[0;32mnot\u001b[0m \u001b[0;32min\u001b[0m \u001b[0;34m\"iub\"\u001b[0m\u001b[0;34m:\u001b[0m \u001b[0;31m# integer, unsigned integer, boolean\u001b[0m\u001b[0;34m\u001b[0m\u001b[0;34m\u001b[0m\u001b[0m\n\u001b[1;32m    130\u001b[0m         \u001b[0;32mraise\u001b[0m \u001b[0mTypeError\u001b[0m\u001b[0;34m(\u001b[0m\u001b[0;34m'mahotas.%s: This function only accepts integer types (passed array of type %s)'\u001b[0m \u001b[0;34m%\u001b[0m \u001b[0;34m(\u001b[0m\u001b[0mfunction_name\u001b[0m\u001b[0;34m,\u001b[0m \u001b[0mA\u001b[0m\u001b[0;34m.\u001b[0m\u001b[0mdtype\u001b[0m\u001b[0;34m)\u001b[0m\u001b[0;34m)\u001b[0m\u001b[0;34m\u001b[0m\u001b[0;34m\u001b[0m\u001b[0m\n",
            "\u001b[0;32m/usr/local/lib/python3.10/dist-packages/PIL/Image.py\u001b[0m in \u001b[0;36m__getattr__\u001b[0;34m(self, name)\u001b[0m\n\u001b[1;32m    527\u001b[0m             \u001b[0mdeprecate\u001b[0m\u001b[0;34m(\u001b[0m\u001b[0;34m\"Image categories\"\u001b[0m\u001b[0;34m,\u001b[0m \u001b[0;36m10\u001b[0m\u001b[0;34m,\u001b[0m \u001b[0;34m\"is_animated\"\u001b[0m\u001b[0;34m,\u001b[0m \u001b[0mplural\u001b[0m\u001b[0;34m=\u001b[0m\u001b[0;32mTrue\u001b[0m\u001b[0;34m)\u001b[0m\u001b[0;34m\u001b[0m\u001b[0;34m\u001b[0m\u001b[0m\n\u001b[1;32m    528\u001b[0m             \u001b[0;32mreturn\u001b[0m \u001b[0mself\u001b[0m\u001b[0;34m.\u001b[0m\u001b[0m_category\u001b[0m\u001b[0;34m\u001b[0m\u001b[0;34m\u001b[0m\u001b[0m\n\u001b[0;32m--> 529\u001b[0;31m         \u001b[0;32mraise\u001b[0m \u001b[0mAttributeError\u001b[0m\u001b[0;34m(\u001b[0m\u001b[0mname\u001b[0m\u001b[0;34m)\u001b[0m\u001b[0;34m\u001b[0m\u001b[0;34m\u001b[0m\u001b[0m\n\u001b[0m\u001b[1;32m    530\u001b[0m \u001b[0;34m\u001b[0m\u001b[0m\n\u001b[1;32m    531\u001b[0m     \u001b[0;34m@\u001b[0m\u001b[0mproperty\u001b[0m\u001b[0;34m\u001b[0m\u001b[0;34m\u001b[0m\u001b[0m\n",
            "\u001b[0;31mAttributeError\u001b[0m: dtype"
          ]
        }
      ]
    },
    {
      "cell_type": "code",
      "source": [],
      "metadata": {
        "id": "dnkBgR2X4UZN"
      },
      "execution_count": null,
      "outputs": []
    }
  ]
}